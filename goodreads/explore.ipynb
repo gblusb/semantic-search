{
 "cells": [
  {
   "cell_type": "code",
   "execution_count": 1,
   "metadata": {},
   "outputs": [],
   "source": [
    "import os\n",
    "import time\n",
    "import duckdb\n",
    "import pandas as pd\n",
    "from dotenv import load_dotenv"
   ]
  },
  {
   "cell_type": "code",
   "execution_count": 2,
   "metadata": {},
   "outputs": [],
   "source": [
    "%load_ext sql\n",
    "conn = duckdb.connect()\n",
    "%sql conn --alias duckdb"
   ]
  },
  {
   "cell_type": "code",
   "execution_count": 3,
   "metadata": {},
   "outputs": [
    {
     "data": {
      "text/html": [
       "<span style=\"None\">displaylimit: Value None will be treated as 0 (no limit)</span>"
      ],
      "text/plain": [
       "displaylimit: Value None will be treated as 0 (no limit)"
      ]
     },
     "metadata": {},
     "output_type": "display_data"
    }
   ],
   "source": [
    "# to receive feedback from SQL queries\n",
    "%config SqlMagic.feedback = False\n",
    "%config SqlMagic.displaylimit = None  # None means unlimited\n",
    "%config SqlMagic.style = \"SINGLE_BORDER\"  \n",
    "\n",
    "# some people like to use this\n",
    "# %config SqlMagic.autopandas = True\n",
    "# but this will make the notebook slow"
   ]
  },
  {
   "cell_type": "code",
   "execution_count": 4,
   "metadata": {},
   "outputs": [
    {
     "data": {
      "text/html": [
       "<table>\n",
       "    <thead>\n",
       "        <tr>\n",
       "            <th>my_answer</th>\n",
       "        </tr>\n",
       "    </thead>\n",
       "    <tbody>\n",
       "        <tr>\n",
       "            <td>42</td>\n",
       "        </tr>\n",
       "    </tbody>\n",
       "</table>"
      ],
      "text/plain": [
       "┌───────────┐\n",
       "│ my_answer │\n",
       "├───────────┤\n",
       "│     42    │\n",
       "└───────────┘"
      ]
     },
     "execution_count": 4,
     "metadata": {},
     "output_type": "execute_result"
    }
   ],
   "source": [
    "%%sql \n",
    "select 42 as my_answer"
   ]
  },
  {
   "cell_type": "code",
   "execution_count": 6,
   "metadata": {},
   "outputs": [],
   "source": [
    "%%sql column_info <<\n",
    "describe\n",
    "select * from read_json_auto('./data/goodreads_books.json.gz')"
   ]
  },
  {
   "cell_type": "code",
   "execution_count": 7,
   "metadata": {},
   "outputs": [
    {
     "name": "stdout",
     "output_type": "stream",
     "text": [
      "┌──────────────────────┬────────────────────────────────────────────┬──────┬──────┬─────────┬───────┐\n",
      "│     column_name      │                column_type                 │ null │ key  │ default │ extra │\n",
      "├──────────────────────┼────────────────────────────────────────────┼──────┼──────┼─────────┼───────┤\n",
      "│         isbn         │                  VARCHAR                   │ YES  │ None │   None  │  None │\n",
      "│  text_reviews_count  │                  VARCHAR                   │ YES  │ None │   None  │  None │\n",
      "│        series        │                  BIGINT[]                  │ YES  │ None │   None  │  None │\n",
      "│     country_code     │                  VARCHAR                   │ YES  │ None │   None  │  None │\n",
      "│    language_code     │                  VARCHAR                   │ YES  │ None │   None  │  None │\n",
      "│   popular_shelves    │   STRUCT(count BIGINT, \"name\" VARCHAR)[]   │ YES  │ None │   None  │  None │\n",
      "│         asin         │                  VARCHAR                   │ YES  │ None │   None  │  None │\n",
      "│       is_ebook       │                  VARCHAR                   │ YES  │ None │   None  │  None │\n",
      "│    average_rating    │                  VARCHAR                   │ YES  │ None │   None  │  None │\n",
      "│     kindle_asin      │                  VARCHAR                   │ YES  │ None │   None  │  None │\n",
      "│    similar_books     │                  BIGINT[]                  │ YES  │ None │   None  │  None │\n",
      "│     description      │                  VARCHAR                   │ YES  │ None │   None  │  None │\n",
      "│        format        │                  VARCHAR                   │ YES  │ None │   None  │  None │\n",
      "│         link         │                  VARCHAR                   │ YES  │ None │   None  │  None │\n",
      "│       authors        │ STRUCT(author_id BIGINT, \"role\" VARCHAR)[] │ YES  │ None │   None  │  None │\n",
      "│      publisher       │                  VARCHAR                   │ YES  │ None │   None  │  None │\n",
      "│      num_pages       │                  VARCHAR                   │ YES  │ None │   None  │  None │\n",
      "│   publication_day    │                  VARCHAR                   │ YES  │ None │   None  │  None │\n",
      "│        isbn13        │                  VARCHAR                   │ YES  │ None │   None  │  None │\n",
      "│  publication_month   │                  VARCHAR                   │ YES  │ None │   None  │  None │\n",
      "│ edition_information  │                  VARCHAR                   │ YES  │ None │   None  │  None │\n",
      "│   publication_year   │                  VARCHAR                   │ YES  │ None │   None  │  None │\n",
      "│         url          │                  VARCHAR                   │ YES  │ None │   None  │  None │\n",
      "│      image_url       │                  VARCHAR                   │ YES  │ None │   None  │  None │\n",
      "│       book_id        │                   BIGINT                   │ YES  │ None │   None  │  None │\n",
      "│    ratings_count     │                  VARCHAR                   │ YES  │ None │   None  │  None │\n",
      "│       work_id        │                  VARCHAR                   │ YES  │ None │   None  │  None │\n",
      "│        title         │                  VARCHAR                   │ YES  │ None │   None  │  None │\n",
      "│ title_without_series │                  VARCHAR                   │ YES  │ None │   None  │  None │\n",
      "└──────────────────────┴────────────────────────────────────────────┴──────┴──────┴─────────┴───────┘\n"
     ]
    }
   ],
   "source": [
    "print(column_info)"
   ]
  },
  {
   "cell_type": "code",
   "execution_count": 10,
   "metadata": {},
   "outputs": [],
   "source": [
    "%%sql book_sample <<\n",
    "select isbn text_reviews_count, country_code, average_rating,\n",
    "language_code, link, url\n",
    "from read_json_auto('./data/goodreads_books.json.gz')\n",
    "using sample 5;"
   ]
  },
  {
   "cell_type": "code",
   "execution_count": 11,
   "metadata": {},
   "outputs": [
    {
     "name": "stdout",
     "output_type": "stream",
     "text": [
      "┌────────────────────┬──────────────┬────────────────┬───────────────┬───────────────────────────────────────────────────────────────────────────────────────────────────────────────────────────────────────────────────────────────────────┬───────────────────────────────────────────────────────────────────────────────────────────────────────────────────────────────────────────────────────────────────────┐\n",
      "│ text_reviews_count │ country_code │ average_rating │ language_code │                                                                                  link                                                                                 │                                                                                  url                                                                                  │\n",
      "├────────────────────┼──────────────┼────────────────┼───────────────┼───────────────────────────────────────────────────────────────────────────────────────────────────────────────────────────────────────────────────────────────────────┼───────────────────────────────────────────────────────────────────────────────────────────────────────────────────────────────────────────────────────────────────────┤\n",
      "│     0571325432     │      US      │      4.57      │      eng      │                <a href=https://www.goodreads.com/book/show/35406534-hero-at-the-fall>https://www.goodreads.com/book/show/35406534-hero-at-the-fall</a>                │                <a href=https://www.goodreads.com/book/show/35406534-hero-at-the-fall>https://www.goodreads.com/book/show/35406534-hero-at-the-fall</a>                │\n",
      "│                    │      US      │      4.28      │      cze      │                         <a href=https://www.goodreads.com/book/show/22005872-z-hrobu>https://www.goodreads.com/book/show/22005872-z-hrobu</a>                         │                         <a href=https://www.goodreads.com/book/show/22005872-z-hrobu>https://www.goodreads.com/book/show/22005872-z-hrobu</a>                         │\n",
      "│     0416518303     │      US      │      4.00      │               │         <a href=https://www.goodreads.com/book/show/45185.E_Nesbit_s_Tales_Of_Terror>https://www.goodreads.com/book/show/45185.E_Nesbit_s_Tales_Of_Terror</a>         │         <a href=https://www.goodreads.com/book/show/45185.E_Nesbit_s_Tales_Of_Terror>https://www.goodreads.com/book/show/45185.E_Nesbit_s_Tales_Of_Terror</a>         │\n",
      "│     0205561845     │      US      │      5.00      │               │ <a href=https://www.goodreads.com/book/show/12470837-simple-clear-and-correct-essays>https://www.goodreads.com/book/show/12470837-simple-clear-and-correct-essays</a> │ <a href=https://www.goodreads.com/book/show/12470837-simple-clear-and-correct-essays>https://www.goodreads.com/book/show/12470837-simple-clear-and-correct-essays</a> │\n",
      "│                    │      US      │      4.46      │      rum      │         <a href=https://www.goodreads.com/book/show/22670958-fra-ii-karamazov-vol-ii>https://www.goodreads.com/book/show/22670958-fra-ii-karamazov-vol-ii</a>         │         <a href=https://www.goodreads.com/book/show/22670958-fra-ii-karamazov-vol-ii>https://www.goodreads.com/book/show/22670958-fra-ii-karamazov-vol-ii</a>         │\n",
      "└────────────────────┴──────────────┴────────────────┴───────────────┴───────────────────────────────────────────────────────────────────────────────────────────────────────────────────────────────────────────────────────────────────────┴───────────────────────────────────────────────────────────────────────────────────────────────────────────────────────────────────────────────────────────────────────┘\n"
     ]
    }
   ],
   "source": [
    "print(book_sample)"
   ]
  },
  {
   "cell_type": "code",
   "execution_count": 14,
   "metadata": {},
   "outputs": [],
   "source": [
    "%%sql review_info <<\n",
    "describe\n",
    "select * from read_json_auto('./data/goodreads_reviews_dedup.json.gz');"
   ]
  },
  {
   "cell_type": "code",
   "execution_count": 15,
   "metadata": {},
   "outputs": [
    {
     "name": "stdout",
     "output_type": "stream",
     "text": [
      "┌──────────────┬─────────────┬──────┬──────┬─────────┬───────┐\n",
      "│ column_name  │ column_type │ null │ key  │ default │ extra │\n",
      "├──────────────┼─────────────┼──────┼──────┼─────────┼───────┤\n",
      "│   user_id    │     UUID    │ YES  │ None │   None  │  None │\n",
      "│   book_id    │    BIGINT   │ YES  │ None │   None  │  None │\n",
      "│  review_id   │     UUID    │ YES  │ None │   None  │  None │\n",
      "│    rating    │    BIGINT   │ YES  │ None │   None  │  None │\n",
      "│ review_text  │   VARCHAR   │ YES  │ None │   None  │  None │\n",
      "│  date_added  │   VARCHAR   │ YES  │ None │   None  │  None │\n",
      "│ date_updated │   VARCHAR   │ YES  │ None │   None  │  None │\n",
      "│   read_at    │   VARCHAR   │ YES  │ None │   None  │  None │\n",
      "│  started_at  │   VARCHAR   │ YES  │ None │   None  │  None │\n",
      "│   n_votes    │    BIGINT   │ YES  │ None │   None  │  None │\n",
      "│  n_comments  │    BIGINT   │ YES  │ None │   None  │  None │\n",
      "└──────────────┴─────────────┴──────┴──────┴─────────┴───────┘\n"
     ]
    }
   ],
   "source": [
    "print(review_info)"
   ]
  },
  {
   "cell_type": "code",
   "execution_count": 16,
   "metadata": {},
   "outputs": [],
   "source": [
    "%%sql country_count <<\n",
    "select country_code, count(*) as count\n",
    "from read_json_auto('./data/goodreads_books.json.gz')\n",
    "group by country_code"
   ]
  },
  {
   "cell_type": "code",
   "execution_count": 17,
   "metadata": {},
   "outputs": [
    {
     "name": "stdout",
     "output_type": "stream",
     "text": [
      "┌──────────────┬─────────┐\n",
      "│ country_code │  count  │\n",
      "├──────────────┼─────────┤\n",
      "│      US      │ 2360165 │\n",
      "│              │   490   │\n",
      "└──────────────┴─────────┘\n"
     ]
    }
   ],
   "source": [
    "print(country_count)"
   ]
  },
  {
   "cell_type": "code",
   "execution_count": 20,
   "metadata": {},
   "outputs": [],
   "source": [
    "%%sql language_count <<\n",
    "select language_code, count(*) as count\n",
    "from read_json_auto('./data/goodreads_books.json.gz')\n",
    "group by language_code\n",
    "order by count desc"
   ]
  },
  {
   "cell_type": "code",
   "execution_count": 21,
   "metadata": {},
   "outputs": [
    {
     "name": "stdout",
     "output_type": "stream",
     "text": [
      "┌───────────────┬─────────┐\n",
      "│ language_code │  count  │\n",
      "├───────────────┼─────────┤\n",
      "│               │ 1060153 │\n",
      "│      eng      │  708457 │\n",
      "│     en-US     │  91452  │\n",
      "│     en-GB     │  58358  │\n",
      "│      spa      │  54524  │\n",
      "│      ita      │  50902  │\n",
      "│      ara      │  42978  │\n",
      "│      fre      │  32046  │\n",
      "│      ger      │  30941  │\n",
      "│      ind      │  27291  │\n",
      "│      por      │  23452  │\n",
      "│       nl      │  17497  │\n",
      "│      tur      │  14238  │\n",
      "│      per      │  11821  │\n",
      "│      fin      │  11611  │\n",
      "│      gre      │  10024  │\n",
      "│      swe      │   9914  │\n",
      "│      cze      │   8564  │\n",
      "│     en-CA     │   7652  │\n",
      "│      jpn      │   7209  │\n",
      "│      bul      │   7105  │\n",
      "│      rus      │   6617  │\n",
      "│      pol      │   6576  │\n",
      "│      msa      │   5675  │\n",
      "│      rum      │   5216  │\n",
      "│      dan      │   5159  │\n",
      "│      ben      │   3385  │\n",
      "│      vie      │   3372  │\n",
      "│      tha      │   3106  │\n",
      "│      scr      │   3022  │\n",
      "│      nor      │   2705  │\n",
      "│      srp      │   2341  │\n",
      "│      est      │   2245  │\n",
      "│      lit      │   2124  │\n",
      "│      lav      │   2051  │\n",
      "│      slo      │   2022  │\n",
      "│      hun      │   1959  │\n",
      "│      zho      │   1661  │\n",
      "│      heb      │   1145  │\n",
      "│      ukr      │   1019  │\n",
      "│      cat      │   991   │\n",
      "│      kat      │   980   │\n",
      "│      pes      │   917   │\n",
      "│      tam      │   817   │\n",
      "│      mal      │   782   │\n",
      "│      fil      │   653   │\n",
      "│      kor      │   583   │\n",
      "│      hin      │   575   │\n",
      "│      urd      │   562   │\n",
      "│      nob      │   516   │\n",
      "│      slv      │   511   │\n",
      "│      afr      │   434   │\n",
      "│      isl      │   390   │\n",
      "│      mon      │   298   │\n",
      "│      mul      │   293   │\n",
      "│      mar      │   255   │\n",
      "│      hye      │   251   │\n",
      "│      tgl      │   249   │\n",
      "│      tel      │   234   │\n",
      "│       en      │   225   │\n",
      "│      guj      │   208   │\n",
      "│      nno      │   197   │\n",
      "│      sin      │   155   │\n",
      "│      bos      │   145   │\n",
      "│      glg      │   133   │\n",
      "│      kan      │   122   │\n",
      "│       --      │   106   │\n",
      "│      aze      │   104   │\n",
      "│      mkd      │    98   │\n",
      "│      nep      │    91   │\n",
      "│      kur      │    89   │\n",
      "│      sqi      │    72   │\n",
      "│      grc      │    61   │\n",
      "│      lat      │    54   │\n",
      "│      mlt      │    52   │\n",
      "│      mya      │    46   │\n",
      "│      nld      │    46   │\n",
      "│     pt-BR     │    38   │\n",
      "│      enm      │    37   │\n",
      "│      wel      │    35   │\n",
      "│     es-MX     │    34   │\n",
      "│      ira      │    27   │\n",
      "│      dum      │    25   │\n",
      "│      mus      │    24   │\n",
      "│      dut      │    23   │\n",
      "│      bel      │    23   │\n",
      "│      pan      │    20   │\n",
      "│      eus      │    20   │\n",
      "│      amh      │    19   │\n",
      "│      frs      │    18   │\n",
      "│      epo      │    17   │\n",
      "│      sco      │    15   │\n",
      "│      gle      │    14   │\n",
      "│      vls      │    14   │\n",
      "│      jav      │    13   │\n",
      "│      snd      │    13   │\n",
      "│      fao      │    13   │\n",
      "│      sun      │    10   │\n",
      "│      ang      │    10   │\n",
      "│      egy      │    10   │\n",
      "│      ota      │    10   │\n",
      "│      aus      │    9    │\n",
      "│      abk      │    9    │\n",
      "│      peo      │    8    │\n",
      "│      ori      │    8    │\n",
      "│      ava      │    8    │\n",
      "│      gla      │    7    │\n",
      "│      chm      │    7    │\n",
      "│      tut      │    7    │\n",
      "│      krl      │    6    │\n",
      "│      gsw      │    6    │\n",
      "│      che      │    6    │\n",
      "│      dua      │    5    │\n",
      "│      nav      │    5    │\n",
      "│      gmh      │    5    │\n",
      "│      tlh      │    5    │\n",
      "│      swa      │    5    │\n",
      "│      arg      │    5    │\n",
      "│      yid      │    4    │\n",
      "│      san      │    4    │\n",
      "│      inh      │    4    │\n",
      "│      kaz      │    4    │\n",
      "│      arw      │    4    │\n",
      "│      rom      │    4    │\n",
      "│      frm      │    4    │\n",
      "│      fiu      │    4    │\n",
      "│      roh      │    4    │\n",
      "│      nso      │    3    │\n",
      "│      ace      │    3    │\n",
      "│      phi      │    3    │\n",
      "│      wak      │    3    │\n",
      "│      mri      │    3    │\n",
      "│      iba      │    3    │\n",
      "│      ilo      │    3    │\n",
      "│      gem      │    3    │\n",
      "│      elx      │    3    │\n",
      "│      asm      │    2    │\n",
      "│      roa      │    2    │\n",
      "│      apa      │    2    │\n",
      "│      myn      │    2    │\n",
      "│      ale      │    2    │\n",
      "│      fro      │    2    │\n",
      "│      anp      │    2    │\n",
      "│      pra      │    2    │\n",
      "│      aka      │    2    │\n",
      "│      vec      │    2    │\n",
      "│      arp      │    2    │\n",
      "│      haw      │    2    │\n",
      "│      sux      │    2    │\n",
      "│      udm      │    2    │\n",
      "│     en-IN     │    2    │\n",
      "│      vai      │    2    │\n",
      "│      ast      │    2    │\n",
      "│      scn      │    2    │\n",
      "│      bas      │    2    │\n",
      "│      nds      │    2    │\n",
      "│      raj      │    2    │\n",
      "│      ady      │    2    │\n",
      "│      nqo      │    2    │\n",
      "│      qaa      │    2    │\n",
      "│      aar      │    1    │\n",
      "│      oci      │    1    │\n",
      "│      fan      │    1    │\n",
      "│      sla      │    1    │\n",
      "│      tgk      │    1    │\n",
      "│      jrb      │    1    │\n",
      "│      bug      │    1    │\n",
      "│      dgr      │    1    │\n",
      "│      afa      │    1    │\n",
      "│      bik      │    1    │\n",
      "│      nub      │    1    │\n",
      "│      chv      │    1    │\n",
      "│      hmn      │    1    │\n",
      "│      ave      │    1    │\n",
      "│      rup      │    1    │\n",
      "│      awa      │    1    │\n",
      "│      ton      │    1    │\n",
      "│      bam      │    1    │\n",
      "│      cor      │    1    │\n",
      "│      kam      │    1    │\n",
      "│      chn      │    1    │\n",
      "│      her      │    1    │\n",
      "│      kok      │    1    │\n",
      "│      tib      │    1    │\n",
      "│      run      │    1    │\n",
      "│      gez      │    1    │\n",
      "│      zap      │    1    │\n",
      "│      alg      │    1    │\n",
      "│      cop      │    1    │\n",
      "│      iku      │    1    │\n",
      "│      tup      │    1    │\n",
      "│      kau      │    1    │\n",
      "│      div      │    1    │\n",
      "│      khm      │    1    │\n",
      "│      bat      │    1    │\n",
      "│      non      │    1    │\n",
      "│      ine      │    1    │\n",
      "│      chp      │    1    │\n",
      "│      dak      │    1    │\n",
      "│      jbo      │    1    │\n",
      "│      hat      │    1    │\n",
      "│      sot      │    1    │\n",
      "│      kir      │    1    │\n",
      "│      grn      │    1    │\n",
      "│      chi      │    1    │\n",
      "│      uzb      │    1    │\n",
      "│      crh      │    1    │\n",
      "│      lao      │    1    │\n",
      "│      din      │    1    │\n",
      "│      und      │    1    │\n",
      "│      smn      │    1    │\n",
      "│      ltz      │    1    │\n",
      "│      lim      │    1    │\n",
      "│      iro      │    1    │\n",
      "│   Select...   │    1    │\n",
      "│      ach      │    1    │\n",
      "│      kal      │    1    │\n",
      "│      sga      │    1    │\n",
      "│      mwl      │    1    │\n",
      "│      ada      │    1    │\n",
      "│      ina      │    1    │\n",
      "│      myv      │    1    │\n",
      "│      dyu      │    1    │\n",
      "│      uig      │    1    │\n",
      "│      chb      │    1    │\n",
      "│      nah      │    1    │\n",
      "│      btk      │    1    │\n",
      "└───────────────┴─────────┘\n"
     ]
    }
   ],
   "source": [
    "print(language_count)"
   ]
  },
  {
   "cell_type": "code",
   "execution_count": null,
   "metadata": {},
   "outputs": [],
   "source": []
  }
 ],
 "metadata": {
  "kernelspec": {
   "display_name": ".venv",
   "language": "python",
   "name": "python3"
  },
  "language_info": {
   "codemirror_mode": {
    "name": "ipython",
    "version": 3
   },
   "file_extension": ".py",
   "mimetype": "text/x-python",
   "name": "python",
   "nbconvert_exporter": "python",
   "pygments_lexer": "ipython3",
   "version": "3.10.10"
  }
 },
 "nbformat": 4,
 "nbformat_minor": 2
}
