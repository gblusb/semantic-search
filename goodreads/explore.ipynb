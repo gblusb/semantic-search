{
 "cells": [
  {
   "cell_type": "code",
   "execution_count": 1,
   "metadata": {},
   "outputs": [],
   "source": [
    "import os\n",
    "import time\n",
    "import duckdb\n",
    "import pandas as pd\n",
    "from dotenv import load_dotenv"
   ]
  },
  {
   "cell_type": "code",
   "execution_count": 12,
   "metadata": {},
   "outputs": [],
   "source": [
    "%load_ext sql\n",
    "conn = duckdb.connect()\n",
    "%sql conn --alias duckdb"
   ]
  },
  {
   "cell_type": "code",
   "execution_count": 31,
   "metadata": {},
   "outputs": [
    {
     "data": {
      "text/html": [
       "<span style=\"None\">displaylimit: Value None will be treated as 0 (no limit)</span>"
      ],
      "text/plain": [
       "displaylimit: Value None will be treated as 0 (no limit)"
      ]
     },
     "metadata": {},
     "output_type": "display_data"
    }
   ],
   "source": [
    "# to receive feedback from SQL queries\n",
    "%config SqlMagic.feedback = False\n",
    "%config SqlMagic.displaylimit = None  # None means unlimited\n",
    "%config SqlMagic.style = \"SINGLE_BORDER\"  \n",
    "\n",
    "# some people like to use this\n",
    "# %config SqlMagic.autopandas = True\n",
    "# but this will make the notebook slow"
   ]
  },
  {
   "cell_type": "code",
   "execution_count": 33,
   "metadata": {},
   "outputs": [],
   "source": [
    "%%sql foo <<\n",
    "select 42 as my_answer"
   ]
  },
  {
   "cell_type": "code",
   "execution_count": 34,
   "metadata": {},
   "outputs": [
    {
     "name": "stdout",
     "output_type": "stream",
     "text": [
      "┌───────────┐\n",
      "│ my_answer │\n",
      "├───────────┤\n",
      "│     42    │\n",
      "└───────────┘\n"
     ]
    }
   ],
   "source": [
    "print(foo)"
   ]
  },
  {
   "cell_type": "code",
   "execution_count": 40,
   "metadata": {},
   "outputs": [],
   "source": [
    "%%sql column_info <<\n",
    "describe\n",
    "select * from read_json_auto('./data/goodreads_books.json.gz')"
   ]
  },
  {
   "cell_type": "code",
   "execution_count": 50,
   "metadata": {},
   "outputs": [
    {
     "name": "stdout",
     "output_type": "stream",
     "text": [
      "┌──────────────────────┬────────────────────────────────────────────┬──────┬──────┬─────────┬───────┐\n",
      "│     column_name      │                column_type                 │ null │ key  │ default │ extra │\n",
      "├──────────────────────┼────────────────────────────────────────────┼──────┼──────┼─────────┼───────┤\n",
      "│         isbn         │                  VARCHAR                   │ YES  │ None │   None  │  None │\n",
      "│  text_reviews_count  │                  VARCHAR                   │ YES  │ None │   None  │  None │\n",
      "│        series        │                  BIGINT[]                  │ YES  │ None │   None  │  None │\n",
      "│     country_code     │                  VARCHAR                   │ YES  │ None │   None  │  None │\n",
      "│    language_code     │                  VARCHAR                   │ YES  │ None │   None  │  None │\n",
      "│   popular_shelves    │   STRUCT(count BIGINT, \"name\" VARCHAR)[]   │ YES  │ None │   None  │  None │\n",
      "│         asin         │                  VARCHAR                   │ YES  │ None │   None  │  None │\n",
      "│       is_ebook       │                  VARCHAR                   │ YES  │ None │   None  │  None │\n",
      "│    average_rating    │                  VARCHAR                   │ YES  │ None │   None  │  None │\n",
      "│     kindle_asin      │                  VARCHAR                   │ YES  │ None │   None  │  None │\n",
      "│    similar_books     │                  BIGINT[]                  │ YES  │ None │   None  │  None │\n",
      "│     description      │                  VARCHAR                   │ YES  │ None │   None  │  None │\n",
      "│        format        │                  VARCHAR                   │ YES  │ None │   None  │  None │\n",
      "│         link         │                  VARCHAR                   │ YES  │ None │   None  │  None │\n",
      "│       authors        │ STRUCT(author_id BIGINT, \"role\" VARCHAR)[] │ YES  │ None │   None  │  None │\n",
      "│      publisher       │                  VARCHAR                   │ YES  │ None │   None  │  None │\n",
      "│      num_pages       │                  VARCHAR                   │ YES  │ None │   None  │  None │\n",
      "│   publication_day    │                  VARCHAR                   │ YES  │ None │   None  │  None │\n",
      "│        isbn13        │                  VARCHAR                   │ YES  │ None │   None  │  None │\n",
      "│  publication_month   │                  VARCHAR                   │ YES  │ None │   None  │  None │\n",
      "│ edition_information  │                  VARCHAR                   │ YES  │ None │   None  │  None │\n",
      "│   publication_year   │                  VARCHAR                   │ YES  │ None │   None  │  None │\n",
      "│         url          │                  VARCHAR                   │ YES  │ None │   None  │  None │\n",
      "│      image_url       │                  VARCHAR                   │ YES  │ None │   None  │  None │\n",
      "│       book_id        │                   BIGINT                   │ YES  │ None │   None  │  None │\n",
      "│    ratings_count     │                  VARCHAR                   │ YES  │ None │   None  │  None │\n",
      "│       work_id        │                  VARCHAR                   │ YES  │ None │   None  │  None │\n",
      "│        title         │                  VARCHAR                   │ YES  │ None │   None  │  None │\n",
      "│ title_without_series │                  VARCHAR                   │ YES  │ None │   None  │  None │\n",
      "└──────────────────────┴────────────────────────────────────────────┴──────┴──────┴─────────┴───────┘\n"
     ]
    }
   ],
   "source": [
    "print(column_info)"
   ]
  },
  {
   "cell_type": "code",
   "execution_count": 42,
   "metadata": {},
   "outputs": [],
   "source": [
    "%%sql book_sample <<\n",
    "select isbn text_reviews_count, country_code, average_rating,\n",
    "language_code, url, book_id, title\n",
    "from read_json_auto('./data/goodreads_books.json.gz')\n",
    "using sample 5;"
   ]
  },
  {
   "cell_type": "code",
   "execution_count": 43,
   "metadata": {},
   "outputs": [
    {
     "name": "stdout",
     "output_type": "stream",
     "text": [
      "┌────────────────────┬──────────────┬────────────────┬───────────────┬─────────────────────────────────────────────────────────────────────────────────────────────────────────────────────────────────────────┬──────────┬───────────────────────────────────────────┐\n",
      "│ text_reviews_count │ country_code │ average_rating │ language_code │                                                                   url                                                                   │ book_id  │                   title                   │\n",
      "├────────────────────┼──────────────┼────────────────┼───────────────┼─────────────────────────────────────────────────────────────────────────────────────────────────────────────────────────────────────────┼──────────┼───────────────────────────────────────────┤\n",
      "│                    │      US      │      3.88      │               │      <a href=https://www.goodreads.com/book/show/25250702-alexia-eden>https://www.goodreads.com/book/show/25250702-alexia-eden</a>      │ 25250702 │  Alexia Eden (FairyTales Don't Exist, #1) │\n",
      "│                    │      US      │      2.67      │               │           <a href=https://www.goodreads.com/book/show/13173187-shaken>https://www.goodreads.com/book/show/13173187-shaken</a>           │ 13173187 │                   Shaken                  │\n",
      "│     8120804066     │      US      │      4.61      │               │       <a href=https://www.goodreads.com/book/show/1406510.Siva_Sutras>https://www.goodreads.com/book/show/1406510.Siva_Sutras</a>       │ 1406510  │ Siva Sutras: The Yoga of Supreme Identity │\n",
      "│                    │      US      │      3.86      │      eng      │ <a href=https://www.goodreads.com/book/show/18991809-the-peyti-crisis>https://www.goodreads.com/book/show/18991809-the-peyti-crisis</a> │ 18991809 │  The Peyti Crisis (Retrieval Artist, #12) │\n",
      "│                    │      US      │      3.49      │               │ <a href=https://www.goodreads.com/book/show/19890013-secret-societies>https://www.goodreads.com/book/show/19890013-secret-societies</a> │ 19890013 │              Secret Societies             │\n",
      "└────────────────────┴──────────────┴────────────────┴───────────────┴─────────────────────────────────────────────────────────────────────────────────────────────────────────────────────────────────────────┴──────────┴───────────────────────────────────────────┘\n"
     ]
    }
   ],
   "source": [
    "print(book_sample)"
   ]
  },
  {
   "cell_type": "code",
   "execution_count": null,
   "metadata": {},
   "outputs": [],
   "source": []
  }
 ],
 "metadata": {
  "kernelspec": {
   "display_name": ".venv",
   "language": "python",
   "name": "python3"
  },
  "language_info": {
   "codemirror_mode": {
    "name": "ipython",
    "version": 3
   },
   "file_extension": ".py",
   "mimetype": "text/x-python",
   "name": "python",
   "nbconvert_exporter": "python",
   "pygments_lexer": "ipython3",
   "version": "3.10.10"
  }
 },
 "nbformat": 4,
 "nbformat_minor": 2
}
